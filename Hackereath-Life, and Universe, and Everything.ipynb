{
 "cells": [
  {
   "cell_type": "code",
   "execution_count": 1,
   "id": "b925913d",
   "metadata": {},
   "outputs": [
    {
     "name": "stdout",
     "output_type": "stream",
     "text": [
      "enter number1,2,88,42,99\n",
      "1\n",
      "2\n",
      "88\n"
     ]
    }
   ],
   "source": [
    "# Hackerearth-Life, the Universe, and Everything\n",
    "a=input(\"enter number\").split(\",\")\n",
    "for i in a:\n",
    "    if(i!=\"42\"):\n",
    "        print(i)\n",
    "    else:\n",
    "        break"
   ]
  }
 ],
 "metadata": {
  "kernelspec": {
   "display_name": "Python 3",
   "language": "python",
   "name": "python3"
  },
  "language_info": {
   "codemirror_mode": {
    "name": "ipython",
    "version": 3
   },
   "file_extension": ".py",
   "mimetype": "text/x-python",
   "name": "python",
   "nbconvert_exporter": "python",
   "pygments_lexer": "ipython3",
   "version": "3.8.8"
  }
 },
 "nbformat": 4,
 "nbformat_minor": 5
}
