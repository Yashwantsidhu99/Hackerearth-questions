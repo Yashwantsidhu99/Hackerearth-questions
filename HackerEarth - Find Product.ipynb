{
 "cells": [
  {
   "cell_type": "code",
   "execution_count": 1,
   "id": "525dd4bd",
   "metadata": {},
   "outputs": [
    {
     "name": "stdout",
     "output_type": "stream",
     "text": [
      "enter number of elements4\n",
      "enter element2\n",
      "enter element3\n",
      "enter element4\n",
      "enter element5\n",
      "['2', '3', '4', '5']\n",
      "120\n"
     ]
    }
   ],
   "source": [
    "d=[]\n",
    "n=int(input(\"enter number of elements\"))\n",
    "for i in range(n):\n",
    "    a=input(\"enter element\")\n",
    "    if a:\n",
    "        d.append(a)\n",
    "    else:\n",
    "        break\n",
    "print(d)  \n",
    "f=1\n",
    "for i in d:\n",
    "    f=f*int(i)\n",
    "print(f)    "
   ]
  }
 ],
 "metadata": {
  "kernelspec": {
   "display_name": "Python 3",
   "language": "python",
   "name": "python3"
  },
  "language_info": {
   "codemirror_mode": {
    "name": "ipython",
    "version": 3
   },
   "file_extension": ".py",
   "mimetype": "text/x-python",
   "name": "python",
   "nbconvert_exporter": "python",
   "pygments_lexer": "ipython3",
   "version": "3.8.8"
  }
 },
 "nbformat": 4,
 "nbformat_minor": 5
}
