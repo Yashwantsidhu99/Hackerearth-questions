{
 "cells": [
  {
   "cell_type": "code",
   "execution_count": 1,
   "id": "00af6d9f",
   "metadata": {},
   "outputs": [
    {
     "name": "stdout",
     "output_type": "stream",
     "text": [
      "invalid\n"
     ]
    }
   ],
   "source": [
    "# Arpasland has surrounded by attackers. A truck enters the city. \n",
    "#The driver claims the load is food and medicine from Iranians. Ali is one\n",
    "#of the soldiers in Arpasland. He doubts about the truck, maybe it's from the \n",
    "#siege. He knows that a tag is valid if the sum of every two consecutive digits\n",
    "#of it is even and its letter is not a vowel. Determine if the tag of the truck is \n",
    "#valid or not.We consider the letters \"A\",\"E\",\"I\",\"O\",\"U\",\"Y\" to be vowels for this problem.\n",
    "a=\"12X345-67\"\n",
    "if(len(a)==9):\n",
    "    if((int(a[0])+int(a[1]))%2==0):\n",
    "        if(a[2].isupper()):\n",
    "            if(a[2]!=\"A\" or a[2]!=\"E\" or a[2]!=\"I\" or a[2]!=\"O\" or a[2]!=\"U\" or a[2]!=\"Y\"):\n",
    "                if((int(a[3])+int(a[4]))%2==0 and (int(a[4])+int(a[5]))%2==0 and (int(a[7])+int(a[8]))%2==0):\n",
    "                    print(\"valid\")\n",
    "                else:\n",
    "                    print(\"invalid\")\n",
    "            else:\n",
    "                print(\"invalid\")\n",
    "        else:\n",
    "            print(\"invalid\")\n",
    "    else:\n",
    "        print(\"invalid\")\n",
    "else:\n",
    "    print(\"invalid\")\n",
    "            \n",
    "          "
   ]
  }
 ],
 "metadata": {
  "kernelspec": {
   "display_name": "Python 3",
   "language": "python",
   "name": "python3"
  },
  "language_info": {
   "codemirror_mode": {
    "name": "ipython",
    "version": 3
   },
   "file_extension": ".py",
   "mimetype": "text/x-python",
   "name": "python",
   "nbconvert_exporter": "python",
   "pygments_lexer": "ipython3",
   "version": "3.8.8"
  }
 },
 "nbformat": 4,
 "nbformat_minor": 5
}
